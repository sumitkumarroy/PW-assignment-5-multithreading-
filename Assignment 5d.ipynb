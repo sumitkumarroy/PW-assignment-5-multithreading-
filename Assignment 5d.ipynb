{
 "cells": [
  {
   "cell_type": "code",
   "execution_count": null,
   "id": "1fb03e85",
   "metadata": {},
   "outputs": [],
   "source": [
    "# 1\n",
    "'''\n",
    "Multithreading in Python refers to the concurrent execution of multiple threads (smaller units of a process) to perform\n",
    "parallel tasks. Each thread runs independently but shares the same resources, such as memory space, with other threads within \n",
    "the same process. \n",
    "\n",
    "Multithreading is used to achieve parallelism, allowing multiple tasks to run concurrently and potentially improve the overall\n",
    "performance of a program. It's particularly useful for tasks that can be divided into smaller, independent subtasks that can be\n",
    "executed simultaneously.\n",
    "\n",
    "The threading module in Python provides a way to create, control, and synchronize threads. \n",
    "'''"
   ]
  },
  {
   "cell_type": "code",
   "execution_count": null,
   "id": "86ea6324",
   "metadata": {},
   "outputs": [],
   "source": [
    "# 2\n",
    "'''\n",
    "\n",
    "The threading module in Python is used for creating and managing threads in a program. It provides a high-level interface for\n",
    "working with threads and includes various functions and classes to facilitate thread creation, synchronization, and \n",
    "communication\n",
    "\n",
    "a. activeCount(): This function is used to get the current number of Thread objects that are alive. It returns the number \n",
    "of Thread objects that have been created and have not yet been terminated. It is particularly useful to monitor the number \n",
    "of active threads in a program.\n",
    "\n",
    "b. currentThread(): This function returns the current Thread object, corresponding to the caller's thread of control. It's \n",
    "useful to identify and get information about the currently executing thread.\n",
    "\n",
    "c. enumerate(): This function returns a list of all Thread objects currently alive. The list includes the current thread and \n",
    "all other threads that have been created and have not yet terminated. It's useful for iterating over all active threads and \n",
    "performing operations on them.\n",
    "\n",
    "'''"
   ]
  },
  {
   "cell_type": "code",
   "execution_count": null,
   "id": "1385dea8",
   "metadata": {},
   "outputs": [],
   "source": [
    "# 3\n",
    "'''\n",
    "a. run(): The run() method is the entry point for the thread when it is invoked using the start() method. It represents the \n",
    "code to be executed in the thread\n",
    "\n",
    "b. start(): The start() method is used to initiate the execution of the thread. When you call this method, it invokes the run()\n",
    "method in a separate thread of control. \n",
    "\n",
    "c. join(): The join() method is used to wait for the thread to complete its execution before proceeding with the rest of the \n",
    "program. It blocks the calling thread until the thread on which it is called finishes.\n",
    "\n",
    "d. isAlive(): The isAlive() method is used to check whether a thread is still executing. It returns True if the thread is \n",
    "currently executing and has not yet terminated, and False otherwise.\n",
    "\n",
    "'''"
   ]
  },
  {
   "cell_type": "code",
   "execution_count": 4,
   "id": "3f5773ec",
   "metadata": {},
   "outputs": [
    {
     "name": "stdout",
     "output_type": "stream",
     "text": [
      " thread 1 (sequence) : 0\n",
      " thread 1 (sequence) : 1\n",
      " thread 1 (sequence) : 2\n",
      " thread 1 (sequence) : 3\n",
      " thread 1 (sequence) : 4\n",
      " thread 1 (sequence) : 5\n",
      "cube of number is : 0\n",
      "cube of number is : 1\n",
      "cube of number is : 8\n",
      "cube of number is : 27\n",
      "cube of number is : 64\n",
      "cube of number is : 125\n"
     ]
    }
   ],
   "source": [
    "# 4\n",
    "import threading\n",
    "def sequence():\n",
    "    for i in range(0,6):\n",
    "        print(f\" thread 1 (sequence) : {i}\")\n",
    "        \n",
    "def cube():\n",
    "    for i in range(0,6):\n",
    "        k = i**3\n",
    "        print(f\"cube of number is : {k}\")\n",
    "try:\n",
    "    thread_1 = threading.Thread(target= sequence)\n",
    "    thread_2 = threading.Thread(target= cube)\n",
    "    \n",
    "except Exception in e:\n",
    "    print('there is an error')\n",
    "    \n",
    "thread_1.start()\n",
    "thread_2.start()\n",
    "\n",
    "thread_1.join()\n",
    "thread_2.join()"
   ]
  },
  {
   "cell_type": "code",
   "execution_count": null,
   "id": "41d68f3c",
   "metadata": {},
   "outputs": [],
   "source": [
    "# 5\n",
    "'''\n",
    "Advantages of Multithreading:--------------------------\n",
    "\n",
    "Parallelism: Multithreading allows concurrent execution of multiple tasks, improving overall program performance by utilizing \n",
    "available system resources.\n",
    "\n",
    "Responsiveness: In applications with a user interface, multithreading helps maintain responsiveness by running time-consuming \n",
    "tasks in the background, allowing the user interface to remain interactive.\n",
    "\n",
    "Resource Sharing: Threads within the same process share resources, such as memory space, reducing the need for inter-process\n",
    "communication mechanisms.\n",
    "\n",
    "Disadvantages of Multithreading:---------------------------\n",
    "\n",
    "Complexity: Multithreading introduces complexity and can make programs harder to design, implement, and debug due to issues \n",
    "like race conditions and deadlocks.\n",
    "\n",
    "Synchronization Overhead: Coordination and synchronization between threads can introduce overhead, potentially negating the\n",
    "benefits of parallel execution.\n",
    "\n",
    "Potential for Errors: Concurrent access to shared resources may lead to race conditions, where multiple threads try to modify \n",
    "the same data simultaneously, resulting in unpredictable behavior.\n",
    "\n",
    "'''"
   ]
  },
  {
   "cell_type": "code",
   "execution_count": null,
   "id": "569cb657",
   "metadata": {},
   "outputs": [],
   "source": [
    "# 6\n",
    "'''\n",
    "Deadlock:\n",
    "Deadlock is a situation in concurrent programming where two or more threads are unable to proceed because each is waiting for \n",
    "the other to release a resource, resulting in a circular waiting condition. In a deadlock, the threads are blocked, and the\n",
    "program comes to a standstill. Deadlocks often occur when multiple threads compete for a set of resources, and each thread \n",
    "holds a resource while waiting for another that is already held by a different thread.\n",
    "\n",
    "Race Condition:\n",
    "A race condition occurs in a program when the behavior depends on the relative timing of events, and the outcome is not \n",
    "guaranteed. It happens when two or more threads access shared data concurrently, and at least one of them modifies the data.\n",
    "The final result becomes unpredictable and depends on the order of execution, leading to unexpected behavior. Race conditions\n",
    "can lead to data corruption, incorrect program output, or other undesirable consequences. \n",
    "\n",
    "'''"
   ]
  }
 ],
 "metadata": {
  "kernelspec": {
   "display_name": "Python 3 (ipykernel)",
   "language": "python",
   "name": "python3"
  },
  "language_info": {
   "codemirror_mode": {
    "name": "ipython",
    "version": 3
   },
   "file_extension": ".py",
   "mimetype": "text/x-python",
   "name": "python",
   "nbconvert_exporter": "python",
   "pygments_lexer": "ipython3",
   "version": "3.11.4"
  }
 },
 "nbformat": 4,
 "nbformat_minor": 5
}
